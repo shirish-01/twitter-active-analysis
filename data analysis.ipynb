{
 "cells": [
  {
   "cell_type": "code",
   "execution_count": null,
   "id": "307b34c9",
   "metadata": {},
   "outputs": [],
   "source": [
    "import tweepy\n",
    "import pandas as pd\n",
    "import matplotlib.pyplot as plt\n",
    "import numpy as np"
   ]
  },
  {
   "cell_type": "code",
   "execution_count": null,
   "id": "1148c217",
   "metadata": {},
   "outputs": [],
   "source": [
    "consumer_key = \"7vNfHUcRvo9vc1LrCES1mMgdi\"\n",
    "consumer_secret = \"PvSLxWSynTeI1RqNgi3ZbyWBU2tYaXZf9hC2WbYPkTgjKyot9b\"\n",
    "access_token =\"1390205980865040386-UW1K59elTH3B8adoyL0lQGgu9DXu3N\"\n",
    "access_token_secret =\"XaudMARFTBLtKX50tPma8wqYIgODfoZU0s8QoiRMsW0Sj\""
   ]
  },
  {
   "cell_type": "code",
   "execution_count": null,
   "id": "078f9820",
   "metadata": {},
   "outputs": [],
   "source": [
    "auth = tweepy.OAuthHandler(consumer_key,consumer_secret)\n",
    "auth.set_access_token(access_token,access_token_secret)\n",
    "api = tweepy.API(auth)"
   ]
  },
  {
   "cell_type": "code",
   "execution_count": null,
   "id": "5596c0fc",
   "metadata": {},
   "outputs": [],
   "source": [
    "name = input(\"enter the correct  twitter id  :   \")"
   ]
  },
  {
   "cell_type": "code",
   "execution_count": null,
   "id": "afeaf4eb",
   "metadata": {},
   "outputs": [],
   "source": [
    "number_of_tweets = 200\n",
    "time = []\n",
    "tweets =[]\n",
    "\n",
    "for i in tweepy.Cursor(api.user_timeline, id =name,tweet_mode=\"extended\" ).items(number_of_tweets):\n",
    "    time.append(i.created_at)\n",
    "    tweets.append(i.full_text)"
   ]
  },
  {
   "cell_type": "code",
   "execution_count": null,
   "id": "53f35b8c",
   "metadata": {},
   "outputs": [],
   "source": [
    "df = pd.DataFrame({'tweets':tweets,'time':time})"
   ]
  },
  {
   "cell_type": "code",
   "execution_count": null,
   "id": "f1388180",
   "metadata": {},
   "outputs": [],
   "source": [
    "df"
   ]
  },
  {
   "cell_type": "code",
   "execution_count": null,
   "id": "57895943",
   "metadata": {},
   "outputs": [],
   "source": [
    "df['time'] = df['time'].astype('datetime64[ns]')\n",
    "df['hours'] = df.time.dt.hour\n",
    "df['date'] = [i.date() for i in df[\"time\"]]\n",
    "df['time_'] = [i.time() for i in df[\"time\"]] \n"
   ]
  },
  {
   "cell_type": "code",
   "execution_count": null,
   "id": "5818d1cd",
   "metadata": {},
   "outputs": [],
   "source": [
    "df = df.drop(['time'],axis=1)\n"
   ]
  },
  {
   "cell_type": "code",
   "execution_count": null,
   "id": "bd4b39a6",
   "metadata": {},
   "outputs": [],
   "source": [
    "df"
   ]
  },
  {
   "cell_type": "code",
   "execution_count": null,
   "id": "4edb8293",
   "metadata": {
    "scrolled": true
   },
   "outputs": [],
   "source": [
    "bins= [1,3,6,9,12,18,21,24]\n",
    "plt.hist(df.hours,bins=bins,edgecolor=\"g\",color ='#ADD8E6')\n",
    "plt.xticks(bins)\n",
    "plt.xlabel(\"(in hrs)\")\n",
    "plt.ylabel(\"Average number of tweets\")\n",
    "plt.title(\"Most active time based on tweets\")\n",
    "plt.grid(axis='y',linestyle=\"--\")\n",
    "plt.show()"
   ]
  },
  {
   "cell_type": "code",
   "execution_count": null,
   "id": "f709b767",
   "metadata": {},
   "outputs": [],
   "source": []
  },
  {
   "cell_type": "code",
   "execution_count": null,
   "id": "3f66c6e7",
   "metadata": {},
   "outputs": [],
   "source": []
  }
 ],
 "metadata": {
  "kernelspec": {
   "display_name": "Python 3",
   "language": "python",
   "name": "python3"
  },
  "language_info": {
   "codemirror_mode": {
    "name": "ipython",
    "version": 3
   },
   "file_extension": ".py",
   "mimetype": "text/x-python",
   "name": "python",
   "nbconvert_exporter": "python",
   "pygments_lexer": "ipython3",
   "version": "3.8.8"
  }
 },
 "nbformat": 4,
 "nbformat_minor": 5
}
